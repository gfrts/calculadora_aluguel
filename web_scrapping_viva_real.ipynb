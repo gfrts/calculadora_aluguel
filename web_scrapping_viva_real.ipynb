{
  "nbformat": 4,
  "nbformat_minor": 0,
  "metadata": {
    "colab": {
      "name": "web_scrapping_viva_real.ipynb",
      "provenance": [],
      "collapsed_sections": [],
      "authorship_tag": "ABX9TyPNPb7F8nwBnj5s2wRb4ygL",
      "include_colab_link": true
    },
    "kernelspec": {
      "name": "python3",
      "display_name": "Python 3"
    },
    "language_info": {
      "name": "python"
    }
  },
  "cells": [
    {
      "cell_type": "markdown",
      "metadata": {
        "id": "view-in-github",
        "colab_type": "text"
      },
      "source": [
        "<a href=\"https://colab.research.google.com/github/gfrts/calculadora_aluguel/blob/main/web_scrapping_viva_real.ipynb\" target=\"_parent\"><img src=\"https://colab.research.google.com/assets/colab-badge.svg\" alt=\"Open In Colab\"/></a>"
      ]
    },
    {
      "cell_type": "code",
      "metadata": {
        "id": "fAb8SaIp6prL",
        "colab": {
          "base_uri": "https://localhost:8080/"
        },
        "outputId": "47bdb7eb-32dd-4674-cd43-3a34db74540a"
      },
      "source": [
        "!pip install selenium"
      ],
      "execution_count": 1,
      "outputs": [
        {
          "output_type": "stream",
          "text": [
            "Collecting selenium\n",
            "\u001b[?25l  Downloading https://files.pythonhosted.org/packages/80/d6/4294f0b4bce4de0abf13e17190289f9d0613b0a44e5dd6a7f5ca98459853/selenium-3.141.0-py2.py3-none-any.whl (904kB)\n",
            "\r\u001b[K     |▍                               | 10kB 15.3MB/s eta 0:00:01\r\u001b[K     |▊                               | 20kB 19.1MB/s eta 0:00:01\r\u001b[K     |█                               | 30kB 15.2MB/s eta 0:00:01\r\u001b[K     |█▌                              | 40kB 13.8MB/s eta 0:00:01\r\u001b[K     |█▉                              | 51kB 7.8MB/s eta 0:00:01\r\u001b[K     |██▏                             | 61kB 8.9MB/s eta 0:00:01\r\u001b[K     |██▌                             | 71kB 7.6MB/s eta 0:00:01\r\u001b[K     |███                             | 81kB 7.8MB/s eta 0:00:01\r\u001b[K     |███▎                            | 92kB 8.5MB/s eta 0:00:01\r\u001b[K     |███▋                            | 102kB 7.6MB/s eta 0:00:01\r\u001b[K     |████                            | 112kB 7.6MB/s eta 0:00:01\r\u001b[K     |████▍                           | 122kB 7.6MB/s eta 0:00:01\r\u001b[K     |████▊                           | 133kB 7.6MB/s eta 0:00:01\r\u001b[K     |█████                           | 143kB 7.6MB/s eta 0:00:01\r\u001b[K     |█████▍                          | 153kB 7.6MB/s eta 0:00:01\r\u001b[K     |█████▉                          | 163kB 7.6MB/s eta 0:00:01\r\u001b[K     |██████▏                         | 174kB 7.6MB/s eta 0:00:01\r\u001b[K     |██████▌                         | 184kB 7.6MB/s eta 0:00:01\r\u001b[K     |██████▉                         | 194kB 7.6MB/s eta 0:00:01\r\u001b[K     |███████▎                        | 204kB 7.6MB/s eta 0:00:01\r\u001b[K     |███████▋                        | 215kB 7.6MB/s eta 0:00:01\r\u001b[K     |████████                        | 225kB 7.6MB/s eta 0:00:01\r\u001b[K     |████████▎                       | 235kB 7.6MB/s eta 0:00:01\r\u001b[K     |████████▊                       | 245kB 7.6MB/s eta 0:00:01\r\u001b[K     |█████████                       | 256kB 7.6MB/s eta 0:00:01\r\u001b[K     |█████████▍                      | 266kB 7.6MB/s eta 0:00:01\r\u001b[K     |█████████▉                      | 276kB 7.6MB/s eta 0:00:01\r\u001b[K     |██████████▏                     | 286kB 7.6MB/s eta 0:00:01\r\u001b[K     |██████████▌                     | 296kB 7.6MB/s eta 0:00:01\r\u001b[K     |██████████▉                     | 307kB 7.6MB/s eta 0:00:01\r\u001b[K     |███████████▎                    | 317kB 7.6MB/s eta 0:00:01\r\u001b[K     |███████████▋                    | 327kB 7.6MB/s eta 0:00:01\r\u001b[K     |████████████                    | 337kB 7.6MB/s eta 0:00:01\r\u001b[K     |████████████▎                   | 348kB 7.6MB/s eta 0:00:01\r\u001b[K     |████████████▊                   | 358kB 7.6MB/s eta 0:00:01\r\u001b[K     |█████████████                   | 368kB 7.6MB/s eta 0:00:01\r\u001b[K     |█████████████▍                  | 378kB 7.6MB/s eta 0:00:01\r\u001b[K     |█████████████▊                  | 389kB 7.6MB/s eta 0:00:01\r\u001b[K     |██████████████▏                 | 399kB 7.6MB/s eta 0:00:01\r\u001b[K     |██████████████▌                 | 409kB 7.6MB/s eta 0:00:01\r\u001b[K     |██████████████▉                 | 419kB 7.6MB/s eta 0:00:01\r\u001b[K     |███████████████▏                | 430kB 7.6MB/s eta 0:00:01\r\u001b[K     |███████████████▋                | 440kB 7.6MB/s eta 0:00:01\r\u001b[K     |████████████████                | 450kB 7.6MB/s eta 0:00:01\r\u001b[K     |████████████████▎               | 460kB 7.6MB/s eta 0:00:01\r\u001b[K     |████████████████▋               | 471kB 7.6MB/s eta 0:00:01\r\u001b[K     |█████████████████               | 481kB 7.6MB/s eta 0:00:01\r\u001b[K     |█████████████████▍              | 491kB 7.6MB/s eta 0:00:01\r\u001b[K     |█████████████████▊              | 501kB 7.6MB/s eta 0:00:01\r\u001b[K     |██████████████████▏             | 512kB 7.6MB/s eta 0:00:01\r\u001b[K     |██████████████████▌             | 522kB 7.6MB/s eta 0:00:01\r\u001b[K     |██████████████████▉             | 532kB 7.6MB/s eta 0:00:01\r\u001b[K     |███████████████████▏            | 542kB 7.6MB/s eta 0:00:01\r\u001b[K     |███████████████████▋            | 552kB 7.6MB/s eta 0:00:01\r\u001b[K     |████████████████████            | 563kB 7.6MB/s eta 0:00:01\r\u001b[K     |████████████████████▎           | 573kB 7.6MB/s eta 0:00:01\r\u001b[K     |████████████████████▋           | 583kB 7.6MB/s eta 0:00:01\r\u001b[K     |█████████████████████           | 593kB 7.6MB/s eta 0:00:01\r\u001b[K     |█████████████████████▍          | 604kB 7.6MB/s eta 0:00:01\r\u001b[K     |█████████████████████▊          | 614kB 7.6MB/s eta 0:00:01\r\u001b[K     |██████████████████████          | 624kB 7.6MB/s eta 0:00:01\r\u001b[K     |██████████████████████▌         | 634kB 7.6MB/s eta 0:00:01\r\u001b[K     |██████████████████████▉         | 645kB 7.6MB/s eta 0:00:01\r\u001b[K     |███████████████████████▏        | 655kB 7.6MB/s eta 0:00:01\r\u001b[K     |███████████████████████▌        | 665kB 7.6MB/s eta 0:00:01\r\u001b[K     |████████████████████████        | 675kB 7.6MB/s eta 0:00:01\r\u001b[K     |████████████████████████▎       | 686kB 7.6MB/s eta 0:00:01\r\u001b[K     |████████████████████████▋       | 696kB 7.6MB/s eta 0:00:01\r\u001b[K     |█████████████████████████       | 706kB 7.6MB/s eta 0:00:01\r\u001b[K     |█████████████████████████▍      | 716kB 7.6MB/s eta 0:00:01\r\u001b[K     |█████████████████████████▊      | 727kB 7.6MB/s eta 0:00:01\r\u001b[K     |██████████████████████████      | 737kB 7.6MB/s eta 0:00:01\r\u001b[K     |██████████████████████████▍     | 747kB 7.6MB/s eta 0:00:01\r\u001b[K     |██████████████████████████▉     | 757kB 7.6MB/s eta 0:00:01\r\u001b[K     |███████████████████████████▏    | 768kB 7.6MB/s eta 0:00:01\r\u001b[K     |███████████████████████████▌    | 778kB 7.6MB/s eta 0:00:01\r\u001b[K     |████████████████████████████    | 788kB 7.6MB/s eta 0:00:01\r\u001b[K     |████████████████████████████▎   | 798kB 7.6MB/s eta 0:00:01\r\u001b[K     |████████████████████████████▋   | 808kB 7.6MB/s eta 0:00:01\r\u001b[K     |█████████████████████████████   | 819kB 7.6MB/s eta 0:00:01\r\u001b[K     |█████████████████████████████▍  | 829kB 7.6MB/s eta 0:00:01\r\u001b[K     |█████████████████████████████▊  | 839kB 7.6MB/s eta 0:00:01\r\u001b[K     |██████████████████████████████  | 849kB 7.6MB/s eta 0:00:01\r\u001b[K     |██████████████████████████████▍ | 860kB 7.6MB/s eta 0:00:01\r\u001b[K     |██████████████████████████████▉ | 870kB 7.6MB/s eta 0:00:01\r\u001b[K     |███████████████████████████████▏| 880kB 7.6MB/s eta 0:00:01\r\u001b[K     |███████████████████████████████▌| 890kB 7.6MB/s eta 0:00:01\r\u001b[K     |███████████████████████████████▉| 901kB 7.6MB/s eta 0:00:01\r\u001b[K     |████████████████████████████████| 911kB 7.6MB/s \n",
            "\u001b[?25hRequirement already satisfied: urllib3 in /usr/local/lib/python3.7/dist-packages (from selenium) (1.24.3)\n",
            "Installing collected packages: selenium\n",
            "Successfully installed selenium-3.141.0\n"
          ],
          "name": "stdout"
        }
      ]
    },
    {
      "cell_type": "code",
      "metadata": {
        "id": "DRviNOws6wTz",
        "colab": {
          "base_uri": "https://localhost:8080/"
        },
        "outputId": "ef3ed268-5ba5-474c-8212-de09d03639c5"
      },
      "source": [
        "!pip install webdriver_manager"
      ],
      "execution_count": 2,
      "outputs": [
        {
          "output_type": "stream",
          "text": [
            "Collecting webdriver_manager\n",
            "  Downloading https://files.pythonhosted.org/packages/19/4b/3e96c8ab0eafad2ad0fb8ef43c2201eb7a6fe79ccc04ff8a68480cd2c5cc/webdriver_manager-3.4.2-py2.py3-none-any.whl\n",
            "Collecting configparser\n",
            "  Downloading https://files.pythonhosted.org/packages/fd/01/ff260a18caaf4457eb028c96eeb405c4a230ca06c8ec9c1379f813caa52e/configparser-5.0.2-py3-none-any.whl\n",
            "Requirement already satisfied: requests in /usr/local/lib/python3.7/dist-packages (from webdriver_manager) (2.23.0)\n",
            "Collecting crayons\n",
            "  Downloading https://files.pythonhosted.org/packages/5b/0d/e3fad4ca1de8e70e06444e7d777a5984261e1db98758b5be3e8296c03fe9/crayons-0.4.0-py2.py3-none-any.whl\n",
            "Requirement already satisfied: urllib3!=1.25.0,!=1.25.1,<1.26,>=1.21.1 in /usr/local/lib/python3.7/dist-packages (from requests->webdriver_manager) (1.24.3)\n",
            "Requirement already satisfied: idna<3,>=2.5 in /usr/local/lib/python3.7/dist-packages (from requests->webdriver_manager) (2.10)\n",
            "Requirement already satisfied: certifi>=2017.4.17 in /usr/local/lib/python3.7/dist-packages (from requests->webdriver_manager) (2020.12.5)\n",
            "Requirement already satisfied: chardet<4,>=3.0.2 in /usr/local/lib/python3.7/dist-packages (from requests->webdriver_manager) (3.0.4)\n",
            "Collecting colorama\n",
            "  Downloading https://files.pythonhosted.org/packages/44/98/5b86278fbbf250d239ae0ecb724f8572af1c91f4a11edf4d36a206189440/colorama-0.4.4-py2.py3-none-any.whl\n",
            "Installing collected packages: configparser, colorama, crayons, webdriver-manager\n",
            "Successfully installed colorama-0.4.4 configparser-5.0.2 crayons-0.4.0 webdriver-manager-3.4.2\n"
          ],
          "name": "stdout"
        }
      ]
    },
    {
      "cell_type": "code",
      "metadata": {
        "id": "FWT_sq-SBJWh",
        "colab": {
          "base_uri": "https://localhost:8080/"
        },
        "outputId": "96dd1f51-5f18-42a6-bc39-156d723aad82"
      },
      "source": [
        "!pip install kora -q"
      ],
      "execution_count": 3,
      "outputs": [
        {
          "output_type": "stream",
          "text": [
            "\u001b[K     |████████████████████████████████| 61kB 5.0MB/s \n",
            "\u001b[K     |████████████████████████████████| 61kB 7.2MB/s \n",
            "\u001b[?25h"
          ],
          "name": "stdout"
        }
      ]
    },
    {
      "cell_type": "code",
      "metadata": {
        "id": "PRuARywy6YsO"
      },
      "source": [
        "import pandas as pd\n",
        "from selenium import webdriver\n",
        "from kora.selenium import wd\n",
        "from time import sleep\n",
        "from tqdm import tqdm"
      ],
      "execution_count": 4,
      "outputs": []
    },
    {
      "cell_type": "code",
      "metadata": {
        "id": "YLe4yVb4_L5B"
      },
      "source": [
        "options = webdriver.ChromeOptions()\n",
        "options.add_argument('--headless')\n",
        "options.add_argument('--no-sandbox')\n",
        "options.add_argument('--disable-dev-shm-usage')\n",
        "driver = webdriver.Chrome(options=options)"
      ],
      "execution_count": 46,
      "outputs": []
    },
    {
      "cell_type": "code",
      "metadata": {
        "id": "IhoNj-XQ6mTp"
      },
      "source": [
        "#links e classes\n",
        "VIVA_REAL_LINK = 'https://www.vivareal.com.br/aluguel/sp/sao-paulo/apartamento_residencial/'\n",
        "RESULT_LIST_CLASS = 'results-list'\n",
        "ADDRESS_CLASS = 'property-card__address'\n",
        "AREA_CLASS = 'property-card__detail-area'\n",
        "ROOM_CLASS = 'property-card__detail-room'\n",
        "BATHROOM_CLASS = 'property-card__detail-bathroom'\n",
        "GARAGE_CLASS = 'property-card__detail-garage'\n",
        "AMENITIES_CLASS = 'property-card__amenities'\n",
        "PRICE_CLASS = 'property-card__price'\n",
        "CONDO_CLASS = 'js-condo-price'\n",
        "VALUE_CLASS = 'property-card__detail-value'\n",
        "CHANGE_PAGE_XPATH = \"//a[@title='Próxima página']\""
      ],
      "execution_count": 20,
      "outputs": []
    },
    {
      "cell_type": "code",
      "metadata": {
        "id": "USDO_HXMBeeB"
      },
      "source": [
        "driver.get(VIVA_REAL_LINK)\n",
        "full_results = []\n",
        "\n",
        "num_pages = 200\n",
        "\n",
        "for page in tqdm(range(num_pages)):\n",
        "  #sleep necessario para garantir o carregamento da pagina\n",
        "  sleep(6)\n",
        "\n",
        "  #verificar se nao tem pop-up de cookie para aceitar\n",
        "  try:\n",
        "    driver.find_element_by_class_name(\"cookie-notifier__cta\").click()\n",
        "  except:\n",
        "    print(\"No cookies!\")\n",
        "\n",
        "  #busca a lista de todos os resultados da pagina\n",
        "  results_page = driver.find_element_by_class_name(RESULT_LIST_CLASS)\n",
        "  #cria uma lista com todos os elementos que estao dentro de uma tag div e possuem o atributo data-type\n",
        "  ids_list = results_page.find_elements_by_xpath('//div[@data-type]')\n",
        "  for j in range(len(ids_list)):\n",
        "    \n",
        "    #coleta o id do ap\n",
        "    url = ids_list[j].find_element_by_class_name('js-card-title').get_attribute('href')\n",
        "    id = url.split(\"id-\")[-1][:-1]\n",
        "\n",
        "    #essa validacao existe para pular o card de anuncio que existe\n",
        "    #caso seja ap, captura o endereco\n",
        "    try:\n",
        "      address = ids_list[j].find_element_by_class_name(ADDRESS_CLASS).text\n",
        "    except:\n",
        "      continue\n",
        "\n",
        "    #recebe o elemento onde tem a informacao da area\n",
        "    area_class = ids_list[j].find_element_by_class_name(AREA_CLASS)\n",
        "    #captura apenas o numero da area\n",
        "    area = area_class.find_element_by_class_name(VALUE_CLASS).text\n",
        "\n",
        "    #recebe o elemento onde tem a informacao de quartos\n",
        "    room_class = ids_list[j].find_element_by_class_name(ROOM_CLASS)\n",
        "    #captura apenas o numero de quartos\n",
        "    room = room_class.find_element_by_class_name(VALUE_CLASS).text\n",
        "\n",
        "    #recebe o elemento onde tem a informacao de banheiros\n",
        "    bathroom_class = ids_list[j].find_element_by_class_name(BATHROOM_CLASS)\n",
        "    #captura apenas o numero de banheiros\n",
        "    bathroom = bathroom_class.find_element_by_class_name(VALUE_CLASS).text\n",
        "\n",
        "    #recebe o elemento onde tem a informacao de vagas\n",
        "    garage_class = ids_list[j].find_element_by_class_name(GARAGE_CLASS)\n",
        "    #captura apenas o numero de vagas\n",
        "    garage = garage_class.find_element_by_class_name(VALUE_CLASS).text\n",
        "\n",
        "    #verifica se existem extras e captura\n",
        "    try:\n",
        "      amenities = ids_list[j].find_element_by_class_name(AMENITIES_CLASS).text\n",
        "    except:\n",
        "      amenities = None\n",
        "    \n",
        "    #recebe o elemento onde tem a informacao do preco do aluguel\n",
        "    price_class = ids_list[j].find_element_by_class_name(PRICE_CLASS)\n",
        "    #captura o valor do aluguel\n",
        "    price = price_class.find_element_by_tag_name('p').text\n",
        "\n",
        "    #verifica se existe valor de condominio e captura\n",
        "    try:\n",
        "      condo = ids_list[j].find_element_by_class_name(CONDO_CLASS).text\n",
        "    except:\n",
        "      condo = None\n",
        "\n",
        "    #adiciona um dicionario com todas as informacoes do ap na lista final\n",
        "    full_results.append({'id': id,\n",
        "                         'address': address, \n",
        "                         'area': area, \n",
        "                         'room': room, \n",
        "                         'bathroom': bathroom, \n",
        "                         'garage': garage, \n",
        "                         'amenities': amenities, \n",
        "                         'price': price, \n",
        "                         'condo': condo})\n",
        "  \n",
        "  #recebe o elemento onde tem a troca de página e clica\n",
        "  next_page = driver.find_element_by_xpath(CHANGE_PAGE_XPATH)\n",
        "  #print(next_page)\n",
        "  next_page.click()\n",
        "\n",
        "df = pd.DataFrame(full_results)\n",
        "df.to_csv('full_results.csv', index=False)\n",
        "driver.close()"
      ],
      "execution_count": null,
      "outputs": []
    }
  ]
}